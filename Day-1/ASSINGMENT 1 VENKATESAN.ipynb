{
 "cells": [
  {
   "cell_type": "markdown",
   "metadata": {},
   "source": [
    "# (2x-3)(x+9)"
   ]
  },
  {
   "cell_type": "code",
   "execution_count": 39,
   "metadata": {},
   "outputs": [
    {
     "name": "stdout",
     "output_type": "stream",
     "text": [
      "98\n"
     ]
    }
   ],
   "source": [
    "x=5\n",
    "y=(2*x-3)*(x+9)\n",
    "print(y)"
   ]
  },
  {
   "cell_type": "markdown",
   "metadata": {},
   "source": []
  },
  {
   "cell_type": "markdown",
   "metadata": {},
   "source": [
    "# X^2+5x+6/2x+5"
   ]
  },
  {
   "cell_type": "code",
   "execution_count": 50,
   "metadata": {},
   "outputs": [
    {
     "name": "stdout",
     "output_type": "stream",
     "text": [
      "3.7333333333333334\n"
     ]
    }
   ],
   "source": [
    "\n",
    "import math\n",
    "x=5\n",
    "a=5*5+5*5+6\n",
    "b=2*x+5\n",
    "c=a/b\n",
    "print(c)\n"
   ]
  },
  {
   "cell_type": "markdown",
   "metadata": {},
   "source": [
    "# 2x+5/X^2+5x+6"
   ]
  },
  {
   "cell_type": "code",
   "execution_count": 51,
   "metadata": {},
   "outputs": [
    {
     "name": "stdout",
     "output_type": "stream",
     "text": [
      "0.26785714285714285\n"
     ]
    }
   ],
   "source": [
    "x=5\n",
    "y=2*x+5\n",
    "z=5*5+5*x+6\n",
    "w=y/z\n",
    "print(w)"
   ]
  },
  {
   "cell_type": "markdown",
   "metadata": {},
   "source": [
    "# username&password login"
   ]
  },
  {
   "cell_type": "code",
   "execution_count": 86,
   "metadata": {},
   "outputs": [
    {
     "name": "stdout",
     "output_type": "stream",
     "text": [
      "What is your username:india\n",
      "what is your Password:ghk\n",
      "your password is incorrect don't ask the username\n"
     ]
    }
   ],
   "source": [
    "username = \"india\"\n",
    "\n",
    "password = \"ind\"\n",
    "\n",
    "user = input(\"What is your username:\")\n",
    "\n",
    "if user == username:\n",
    "    userpassword=input(\"what is your Password:\")   \n",
    "    if userpassword == password:\n",
    "        print(\"congratulations you have logged in successfully\")\n",
    "    else:\n",
    "        print(\"your password is incorrect don't ask the username\")\n",
    "else:\n",
    "    print(\"your username is incorrect don't ask the password again\")\n",
    "    password=\"ind\"\n",
    "    userpassword!=password"
   ]
  },
  {
   "cell_type": "code",
   "execution_count": null,
   "metadata": {},
   "outputs": [],
   "source": [
    "in"
   ]
  }
 ],
 "metadata": {
  "kernelspec": {
   "display_name": "Python 3",
   "language": "python",
   "name": "python3"
  },
  "language_info": {
   "codemirror_mode": {
    "name": "ipython",
    "version": 3
   },
   "file_extension": ".py",
   "mimetype": "text/x-python",
   "name": "python",
   "nbconvert_exporter": "python",
   "pygments_lexer": "ipython3",
   "version": "3.8.5"
  }
 },
 "nbformat": 4,
 "nbformat_minor": 4
}
